{
 "cells": [
  {
   "cell_type": "code",
   "execution_count": null,
   "id": "b3fbd645-bee6-4121-8809-23c9766473b9",
   "metadata": {},
   "outputs": [],
   "source": []
  }
 ],
 "metadata": {
  "kernelspec": {
   "display_name": "",
   "name": ""
  },
  "language_info": {
   "name": ""
  }
 },
 "nbformat": 4,
 "nbformat_minor": 5
}
