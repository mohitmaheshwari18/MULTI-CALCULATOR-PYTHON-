{
 "cells": [
  {
   "cell_type": "code",
   "execution_count": null,
   "id": "491ebb5c-4dd8-4ce3-b8b1-821fb96dbd53",
   "metadata": {},
   "outputs": [],
   "source": []
  }
 ],
 "metadata": {
  "kernelspec": {
   "display_name": "",
   "name": ""
  },
  "language_info": {
   "name": ""
  }
 },
 "nbformat": 4,
 "nbformat_minor": 5
}
